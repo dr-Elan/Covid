{
 "cells": [
  {
   "cell_type": "code",
   "execution_count": 340,
   "id": "b95fd8fd",
   "metadata": {},
   "outputs": [],
   "source": [
    "\n",
    "import pandas as pd\n",
    "import numpy as np\n",
    "from sklearn.linear_model import LogisticRegression\n",
    "import seaborn as sns\n",
    "from sklearn.pipeline import make_pipeline\n",
    "from sklearn.preprocessing import StandardScaler\n",
    "from sklearn.model_selection import train_test_split\n",
    "from sklearn.svm import SVC\n",
    "import pandas as pd\n",
    "from matplotlib import pyplot as plt\n",
    "import warnings\n",
    "warnings.filterwarnings('ignore')"
   ]
  },
  {
   "cell_type": "code",
   "execution_count": 341,
   "id": "0e58fec6",
   "metadata": {},
   "outputs": [
    {
     "data": {
      "text/html": [
       "<div>\n",
       "<style scoped>\n",
       "    .dataframe tbody tr th:only-of-type {\n",
       "        vertical-align: middle;\n",
       "    }\n",
       "\n",
       "    .dataframe tbody tr th {\n",
       "        vertical-align: top;\n",
       "    }\n",
       "\n",
       "    .dataframe thead th {\n",
       "        text-align: right;\n",
       "    }\n",
       "</style>\n",
       "<table border=\"1\" class=\"dataframe\">\n",
       "  <thead>\n",
       "    <tr style=\"text-align: right;\">\n",
       "      <th></th>\n",
       "      <th>ФИО</th>\n",
       "      <th>№</th>\n",
       "      <th>Возраст</th>\n",
       "      <th>Пол</th>\n",
       "      <th>Креат. 1</th>\n",
       "      <th>рСКФ</th>\n",
       "      <th>Критерий Х</th>\n",
       "      <th>X_оценка</th>\n",
       "      <th>Диагноз</th>\n",
       "      <th>Клин_Оценка</th>\n",
       "      <th>NEWS-2</th>\n",
       "      <th>NEWS_Оценка</th>\n",
       "    </tr>\n",
       "  </thead>\n",
       "  <tbody>\n",
       "    <tr>\n",
       "      <th>0</th>\n",
       "      <td>Авсеевич Татьяна Васильевна</td>\n",
       "      <td>1</td>\n",
       "      <td>84</td>\n",
       "      <td>2</td>\n",
       "      <td>80.30</td>\n",
       "      <td>58</td>\n",
       "      <td>53</td>\n",
       "      <td>СТ</td>\n",
       "      <td>внебольн.двустор.полисегм.пневм.тяжел теч. ДН II</td>\n",
       "      <td>Т</td>\n",
       "      <td>2</td>\n",
       "      <td>Л</td>\n",
       "    </tr>\n",
       "    <tr>\n",
       "      <th>1</th>\n",
       "      <td>Алишоев С.М.</td>\n",
       "      <td>2</td>\n",
       "      <td>46</td>\n",
       "      <td>1</td>\n",
       "      <td>92.22</td>\n",
       "      <td>85</td>\n",
       "      <td>60</td>\n",
       "      <td>СТ</td>\n",
       "      <td>внебольничная полисегментарная , ДН 0</td>\n",
       "      <td>СТ</td>\n",
       "      <td>2</td>\n",
       "      <td>Л</td>\n",
       "    </tr>\n",
       "    <tr>\n",
       "      <th>2</th>\n",
       "      <td>Андреева Галина Михайлова</td>\n",
       "      <td>3</td>\n",
       "      <td>65</td>\n",
       "      <td>2</td>\n",
       "      <td>67.10</td>\n",
       "      <td>83</td>\n",
       "      <td>42</td>\n",
       "      <td>СТ</td>\n",
       "      <td>внебольн. двусторон. Полисегм пневм, легк.теч....</td>\n",
       "      <td>СТ</td>\n",
       "      <td>1</td>\n",
       "      <td>Л</td>\n",
       "    </tr>\n",
       "    <tr>\n",
       "      <th>3</th>\n",
       "      <td>Артемьев Евгений Евгеньевич</td>\n",
       "      <td>4</td>\n",
       "      <td>79</td>\n",
       "      <td>1</td>\n",
       "      <td>126.50</td>\n",
       "      <td>46</td>\n",
       "      <td>61</td>\n",
       "      <td>СТ</td>\n",
       "      <td>внебольн. двусторон.полисегм.пнемония, тяжелог...</td>\n",
       "      <td>Т</td>\n",
       "      <td>4</td>\n",
       "      <td>Л</td>\n",
       "    </tr>\n",
       "    <tr>\n",
       "      <th>4</th>\n",
       "      <td>Астахов Александр Николаевич</td>\n",
       "      <td>5</td>\n",
       "      <td>65</td>\n",
       "      <td>1</td>\n",
       "      <td>109.00</td>\n",
       "      <td>61</td>\n",
       "      <td>88</td>\n",
       "      <td>Т</td>\n",
       "      <td>внеб.двустор.полисегм.пневм, критическая ст.тя...</td>\n",
       "      <td>Т</td>\n",
       "      <td>8</td>\n",
       "      <td>Т</td>\n",
       "    </tr>\n",
       "    <tr>\n",
       "      <th>...</th>\n",
       "      <td>...</td>\n",
       "      <td>...</td>\n",
       "      <td>...</td>\n",
       "      <td>...</td>\n",
       "      <td>...</td>\n",
       "      <td>...</td>\n",
       "      <td>...</td>\n",
       "      <td>...</td>\n",
       "      <td>...</td>\n",
       "      <td>...</td>\n",
       "      <td>...</td>\n",
       "      <td>...</td>\n",
       "    </tr>\n",
       "    <tr>\n",
       "      <th>300</th>\n",
       "      <td>Федорова Ольга Лукьяновна</td>\n",
       "      <td>301</td>\n",
       "      <td>67</td>\n",
       "      <td>2</td>\n",
       "      <td>78.50</td>\n",
       "      <td>67</td>\n",
       "      <td>50</td>\n",
       "      <td>СТ</td>\n",
       "      <td>Внеб.двуст.полисегм.пневм. Средн.тяж.ДН 0-1 ст.</td>\n",
       "      <td>СТ</td>\n",
       "      <td>3</td>\n",
       "      <td>Л</td>\n",
       "    </tr>\n",
       "    <tr>\n",
       "      <th>301</th>\n",
       "      <td>Фомичева Антонина Михайловна</td>\n",
       "      <td>302</td>\n",
       "      <td>67</td>\n",
       "      <td>2</td>\n",
       "      <td>88.94</td>\n",
       "      <td>58</td>\n",
       "      <td>56</td>\n",
       "      <td>СТ</td>\n",
       "      <td>Внеб.двуст.полисегм.пневм. Средн.тяж.ДН 1 ст.</td>\n",
       "      <td>СТ</td>\n",
       "      <td>7</td>\n",
       "      <td>Т</td>\n",
       "    </tr>\n",
       "    <tr>\n",
       "      <th>302</th>\n",
       "      <td>Харсеева Наталия Вячеславовна</td>\n",
       "      <td>303</td>\n",
       "      <td>45</td>\n",
       "      <td>2</td>\n",
       "      <td>76.10</td>\n",
       "      <td>82</td>\n",
       "      <td>83</td>\n",
       "      <td>Т</td>\n",
       "      <td>Внеб.двуст.полисегм.пневм. Средн.тяж.ДН 1 ст.</td>\n",
       "      <td>СТ</td>\n",
       "      <td>4</td>\n",
       "      <td>Л</td>\n",
       "    </tr>\n",
       "    <tr>\n",
       "      <th>303</th>\n",
       "      <td>Хорькова Татьяна Григорьевна</td>\n",
       "      <td>304</td>\n",
       "      <td>65</td>\n",
       "      <td>2</td>\n",
       "      <td>91.08</td>\n",
       "      <td>57</td>\n",
       "      <td>44</td>\n",
       "      <td>СТ</td>\n",
       "      <td>Внеб.двуст.полисегм.пневм. Средн.тяж.ДН 1 ст.</td>\n",
       "      <td>СТ</td>\n",
       "      <td>3</td>\n",
       "      <td>Л</td>\n",
       "    </tr>\n",
       "    <tr>\n",
       "      <th>304</th>\n",
       "      <td>Шулев Владимир Геннадьевич</td>\n",
       "      <td>305</td>\n",
       "      <td>55</td>\n",
       "      <td>1</td>\n",
       "      <td>111.70</td>\n",
       "      <td>64</td>\n",
       "      <td>75</td>\n",
       "      <td>Т</td>\n",
       "      <td>Внеб.двуст.полисегм.пневм. Средн.тяж.ДН 1 ст.</td>\n",
       "      <td>СТ</td>\n",
       "      <td>3</td>\n",
       "      <td>Л</td>\n",
       "    </tr>\n",
       "  </tbody>\n",
       "</table>\n",
       "<p>305 rows × 12 columns</p>\n",
       "</div>"
      ],
      "text/plain": [
       "                               ФИО    №  Возраст  Пол  Креат. 1  рСКФ  \\\n",
       "0      Авсеевич Татьяна Васильевна    1       84    2     80.30    58   \n",
       "1                     Алишоев С.М.    2       46    1     92.22    85   \n",
       "2        Андреева Галина Михайлова    3       65    2     67.10    83   \n",
       "3      Артемьев Евгений Евгеньевич    4       79    1    126.50    46   \n",
       "4     Астахов Александр Николаевич    5       65    1    109.00    61   \n",
       "..                             ...  ...      ...  ...       ...   ...   \n",
       "300      Федорова Ольга Лукьяновна  301       67    2     78.50    67   \n",
       "301   Фомичева Антонина Михайловна  302       67    2     88.94    58   \n",
       "302  Харсеева Наталия Вячеславовна  303       45    2     76.10    82   \n",
       "303   Хорькова Татьяна Григорьевна  304       65    2     91.08    57   \n",
       "304     Шулев Владимир Геннадьевич  305       55    1    111.70    64   \n",
       "\n",
       "     Критерий Х X_оценка                                            Диагноз  \\\n",
       "0            53       СТ  внебольн.двустор.полисегм.пневм.тяжел теч. ДН II    \n",
       "1            60       СТ              внебольничная полисегментарная , ДН 0   \n",
       "2            42       СТ  внебольн. двусторон. Полисегм пневм, легк.теч....   \n",
       "3            61       СТ  внебольн. двусторон.полисегм.пнемония, тяжелог...   \n",
       "4            88        Т  внеб.двустор.полисегм.пневм, критическая ст.тя...   \n",
       "..          ...      ...                                                ...   \n",
       "300          50       СТ    Внеб.двуст.полисегм.пневм. Средн.тяж.ДН 0-1 ст.   \n",
       "301          56       СТ      Внеб.двуст.полисегм.пневм. Средн.тяж.ДН 1 ст.   \n",
       "302          83        Т      Внеб.двуст.полисегм.пневм. Средн.тяж.ДН 1 ст.   \n",
       "303          44       СТ      Внеб.двуст.полисегм.пневм. Средн.тяж.ДН 1 ст.   \n",
       "304          75        Т      Внеб.двуст.полисегм.пневм. Средн.тяж.ДН 1 ст.   \n",
       "\n",
       "    Клин_Оценка  NEWS-2 NEWS_Оценка  \n",
       "0             Т       2           Л  \n",
       "1            СТ       2           Л  \n",
       "2            СТ       1           Л  \n",
       "3             Т       4           Л  \n",
       "4             Т       8           Т  \n",
       "..          ...     ...         ...  \n",
       "300          СТ       3           Л  \n",
       "301          СТ       7           Т  \n",
       "302          СТ       4           Л  \n",
       "303          СТ       3           Л  \n",
       "304          СТ       3           Л  \n",
       "\n",
       "[305 rows x 12 columns]"
      ]
     },
     "execution_count": 341,
     "metadata": {},
     "output_type": "execute_result"
    }
   ],
   "source": [
    "df = pd.read_excel('covid19.xlsx')\n",
    "df"
   ]
  },
  {
   "attachments": {},
   "cell_type": "markdown",
   "id": "0b0ae31f",
   "metadata": {},
   "source": [
    "# удалим не количественные данные"
   ]
  },
  {
   "cell_type": "code",
   "execution_count": 342,
   "id": "918e2ba7",
   "metadata": {},
   "outputs": [
    {
     "data": {
      "text/plain": [
       "Index(['Возраст', 'Пол', 'Креат. 1', 'рСКФ', 'Критерий Х', 'X_оценка',\n",
       "       'Клин_Оценка', 'NEWS-2', 'NEWS_Оценка'],\n",
       "      dtype='object')"
      ]
     },
     "execution_count": 342,
     "metadata": {},
     "output_type": "execute_result"
    }
   ],
   "source": [
    "data = df.drop(columns=['ФИО','№','Диагноз'])\n",
    "data.columns"
   ]
  },
  {
   "cell_type": "code",
   "execution_count": 343,
   "id": "ea858c75",
   "metadata": {},
   "outputs": [
    {
     "name": "stdout",
     "output_type": "stream",
     "text": [
      "<class 'pandas.core.frame.DataFrame'>\n",
      "RangeIndex: 305 entries, 0 to 304\n",
      "Data columns (total 9 columns):\n",
      " #   Column       Non-Null Count  Dtype  \n",
      "---  ------       --------------  -----  \n",
      " 0   Возраст      305 non-null    int64  \n",
      " 1   Пол          305 non-null    int64  \n",
      " 2   Креат. 1     305 non-null    float64\n",
      " 3   рСКФ         305 non-null    int64  \n",
      " 4   Критерий Х   305 non-null    int64  \n",
      " 5   X_оценка     305 non-null    object \n",
      " 6   Клин_Оценка  305 non-null    object \n",
      " 7   NEWS-2       305 non-null    int64  \n",
      " 8   NEWS_Оценка  305 non-null    object \n",
      "dtypes: float64(1), int64(5), object(3)\n",
      "memory usage: 21.6+ KB\n"
     ]
    }
   ],
   "source": [
    "data.info()"
   ]
  },
  {
   "cell_type": "code",
   "execution_count": null,
   "id": "df6aee9d",
   "metadata": {},
   "outputs": [],
   "source": []
  },
  {
   "cell_type": "code",
   "execution_count": 344,
   "id": "f894eac9",
   "metadata": {},
   "outputs": [
    {
     "data": {
      "text/html": [
       "<div>\n",
       "<style scoped>\n",
       "    .dataframe tbody tr th:only-of-type {\n",
       "        vertical-align: middle;\n",
       "    }\n",
       "\n",
       "    .dataframe tbody tr th {\n",
       "        vertical-align: top;\n",
       "    }\n",
       "\n",
       "    .dataframe thead th {\n",
       "        text-align: right;\n",
       "    }\n",
       "</style>\n",
       "<table border=\"1\" class=\"dataframe\">\n",
       "  <thead>\n",
       "    <tr style=\"text-align: right;\">\n",
       "      <th></th>\n",
       "      <th>Возраст</th>\n",
       "      <th>Пол</th>\n",
       "      <th>Креат. 1</th>\n",
       "      <th>рСКФ</th>\n",
       "      <th>Критерий Х</th>\n",
       "      <th>X_оценка</th>\n",
       "      <th>Клин_Оценка</th>\n",
       "      <th>NEWS-2</th>\n",
       "      <th>NEWS_Оценка</th>\n",
       "    </tr>\n",
       "  </thead>\n",
       "  <tbody>\n",
       "    <tr>\n",
       "      <th>0</th>\n",
       "      <td>84</td>\n",
       "      <td>2</td>\n",
       "      <td>80.30</td>\n",
       "      <td>58</td>\n",
       "      <td>53</td>\n",
       "      <td>СТ</td>\n",
       "      <td>Т</td>\n",
       "      <td>2</td>\n",
       "      <td>Л</td>\n",
       "    </tr>\n",
       "    <tr>\n",
       "      <th>1</th>\n",
       "      <td>46</td>\n",
       "      <td>1</td>\n",
       "      <td>92.22</td>\n",
       "      <td>85</td>\n",
       "      <td>60</td>\n",
       "      <td>СТ</td>\n",
       "      <td>СТ</td>\n",
       "      <td>2</td>\n",
       "      <td>Л</td>\n",
       "    </tr>\n",
       "    <tr>\n",
       "      <th>2</th>\n",
       "      <td>65</td>\n",
       "      <td>2</td>\n",
       "      <td>67.10</td>\n",
       "      <td>83</td>\n",
       "      <td>42</td>\n",
       "      <td>СТ</td>\n",
       "      <td>СТ</td>\n",
       "      <td>1</td>\n",
       "      <td>Л</td>\n",
       "    </tr>\n",
       "    <tr>\n",
       "      <th>3</th>\n",
       "      <td>79</td>\n",
       "      <td>1</td>\n",
       "      <td>126.50</td>\n",
       "      <td>46</td>\n",
       "      <td>61</td>\n",
       "      <td>СТ</td>\n",
       "      <td>Т</td>\n",
       "      <td>4</td>\n",
       "      <td>Л</td>\n",
       "    </tr>\n",
       "    <tr>\n",
       "      <th>4</th>\n",
       "      <td>65</td>\n",
       "      <td>1</td>\n",
       "      <td>109.00</td>\n",
       "      <td>61</td>\n",
       "      <td>88</td>\n",
       "      <td>Т</td>\n",
       "      <td>Т</td>\n",
       "      <td>8</td>\n",
       "      <td>Т</td>\n",
       "    </tr>\n",
       "    <tr>\n",
       "      <th>...</th>\n",
       "      <td>...</td>\n",
       "      <td>...</td>\n",
       "      <td>...</td>\n",
       "      <td>...</td>\n",
       "      <td>...</td>\n",
       "      <td>...</td>\n",
       "      <td>...</td>\n",
       "      <td>...</td>\n",
       "      <td>...</td>\n",
       "    </tr>\n",
       "    <tr>\n",
       "      <th>300</th>\n",
       "      <td>67</td>\n",
       "      <td>2</td>\n",
       "      <td>78.50</td>\n",
       "      <td>67</td>\n",
       "      <td>50</td>\n",
       "      <td>СТ</td>\n",
       "      <td>СТ</td>\n",
       "      <td>3</td>\n",
       "      <td>Л</td>\n",
       "    </tr>\n",
       "    <tr>\n",
       "      <th>301</th>\n",
       "      <td>67</td>\n",
       "      <td>2</td>\n",
       "      <td>88.94</td>\n",
       "      <td>58</td>\n",
       "      <td>56</td>\n",
       "      <td>СТ</td>\n",
       "      <td>СТ</td>\n",
       "      <td>7</td>\n",
       "      <td>Т</td>\n",
       "    </tr>\n",
       "    <tr>\n",
       "      <th>302</th>\n",
       "      <td>45</td>\n",
       "      <td>2</td>\n",
       "      <td>76.10</td>\n",
       "      <td>82</td>\n",
       "      <td>83</td>\n",
       "      <td>Т</td>\n",
       "      <td>СТ</td>\n",
       "      <td>4</td>\n",
       "      <td>Л</td>\n",
       "    </tr>\n",
       "    <tr>\n",
       "      <th>303</th>\n",
       "      <td>65</td>\n",
       "      <td>2</td>\n",
       "      <td>91.08</td>\n",
       "      <td>57</td>\n",
       "      <td>44</td>\n",
       "      <td>СТ</td>\n",
       "      <td>СТ</td>\n",
       "      <td>3</td>\n",
       "      <td>Л</td>\n",
       "    </tr>\n",
       "    <tr>\n",
       "      <th>304</th>\n",
       "      <td>55</td>\n",
       "      <td>1</td>\n",
       "      <td>111.70</td>\n",
       "      <td>64</td>\n",
       "      <td>75</td>\n",
       "      <td>Т</td>\n",
       "      <td>СТ</td>\n",
       "      <td>3</td>\n",
       "      <td>Л</td>\n",
       "    </tr>\n",
       "  </tbody>\n",
       "</table>\n",
       "<p>305 rows × 9 columns</p>\n",
       "</div>"
      ],
      "text/plain": [
       "     Возраст  Пол  Креат. 1  рСКФ  Критерий Х X_оценка Клин_Оценка  NEWS-2  \\\n",
       "0         84    2     80.30    58          53       СТ           Т       2   \n",
       "1         46    1     92.22    85          60       СТ          СТ       2   \n",
       "2         65    2     67.10    83          42       СТ          СТ       1   \n",
       "3         79    1    126.50    46          61       СТ           Т       4   \n",
       "4         65    1    109.00    61          88        Т           Т       8   \n",
       "..       ...  ...       ...   ...         ...      ...         ...     ...   \n",
       "300       67    2     78.50    67          50       СТ          СТ       3   \n",
       "301       67    2     88.94    58          56       СТ          СТ       7   \n",
       "302       45    2     76.10    82          83        Т          СТ       4   \n",
       "303       65    2     91.08    57          44       СТ          СТ       3   \n",
       "304       55    1    111.70    64          75        Т          СТ       3   \n",
       "\n",
       "    NEWS_Оценка  \n",
       "0             Л  \n",
       "1             Л  \n",
       "2             Л  \n",
       "3             Л  \n",
       "4             Т  \n",
       "..          ...  \n",
       "300           Л  \n",
       "301           Т  \n",
       "302           Л  \n",
       "303           Л  \n",
       "304           Л  \n",
       "\n",
       "[305 rows x 9 columns]"
      ]
     },
     "execution_count": 344,
     "metadata": {},
     "output_type": "execute_result"
    }
   ],
   "source": [
    "data"
   ]
  },
  {
   "attachments": {},
   "cell_type": "markdown",
   "id": "00872ec1",
   "metadata": {},
   "source": [
    "# необходимо категориальные данные (такие как пол) переквалифицировать в бинарные. категориальные данные -- это те, которые имеют тип object в таблице выше"
   ]
  },
  {
   "cell_type": "code",
   "execution_count": 345,
   "id": "d1637285",
   "metadata": {},
   "outputs": [
    {
     "data": {
      "text/html": [
       "<div>\n",
       "<style scoped>\n",
       "    .dataframe tbody tr th:only-of-type {\n",
       "        vertical-align: middle;\n",
       "    }\n",
       "\n",
       "    .dataframe tbody tr th {\n",
       "        vertical-align: top;\n",
       "    }\n",
       "\n",
       "    .dataframe thead th {\n",
       "        text-align: right;\n",
       "    }\n",
       "</style>\n",
       "<table border=\"1\" class=\"dataframe\">\n",
       "  <thead>\n",
       "    <tr style=\"text-align: right;\">\n",
       "      <th></th>\n",
       "      <th>Возраст</th>\n",
       "      <th>Креат. 1</th>\n",
       "      <th>рСКФ</th>\n",
       "      <th>Критерий Х</th>\n",
       "      <th>NEWS-2</th>\n",
       "      <th>X_оценка_Л</th>\n",
       "      <th>X_оценка_СТ</th>\n",
       "      <th>X_оценка_СТ</th>\n",
       "      <th>X_оценка_Т</th>\n",
       "      <th>Клин_Оценка_Л</th>\n",
       "      <th>Клин_Оценка_СТ</th>\n",
       "      <th>Клин_Оценка_Т</th>\n",
       "      <th>NEWS_Оценка_Д</th>\n",
       "      <th>NEWS_Оценка_Л</th>\n",
       "      <th>NEWS_Оценка_СТ</th>\n",
       "      <th>NEWS_Оценка_Т</th>\n",
       "      <th>NEWS_Оценка_Т</th>\n",
       "      <th>Пол_1</th>\n",
       "      <th>Пол_2</th>\n",
       "    </tr>\n",
       "  </thead>\n",
       "  <tbody>\n",
       "    <tr>\n",
       "      <th>0</th>\n",
       "      <td>84</td>\n",
       "      <td>80.30</td>\n",
       "      <td>58</td>\n",
       "      <td>53</td>\n",
       "      <td>2</td>\n",
       "      <td>0</td>\n",
       "      <td>1</td>\n",
       "      <td>0</td>\n",
       "      <td>0</td>\n",
       "      <td>0</td>\n",
       "      <td>0</td>\n",
       "      <td>1</td>\n",
       "      <td>0</td>\n",
       "      <td>1</td>\n",
       "      <td>0</td>\n",
       "      <td>0</td>\n",
       "      <td>0</td>\n",
       "      <td>0</td>\n",
       "      <td>1</td>\n",
       "    </tr>\n",
       "    <tr>\n",
       "      <th>1</th>\n",
       "      <td>46</td>\n",
       "      <td>92.22</td>\n",
       "      <td>85</td>\n",
       "      <td>60</td>\n",
       "      <td>2</td>\n",
       "      <td>0</td>\n",
       "      <td>1</td>\n",
       "      <td>0</td>\n",
       "      <td>0</td>\n",
       "      <td>0</td>\n",
       "      <td>1</td>\n",
       "      <td>0</td>\n",
       "      <td>0</td>\n",
       "      <td>1</td>\n",
       "      <td>0</td>\n",
       "      <td>0</td>\n",
       "      <td>0</td>\n",
       "      <td>1</td>\n",
       "      <td>0</td>\n",
       "    </tr>\n",
       "    <tr>\n",
       "      <th>2</th>\n",
       "      <td>65</td>\n",
       "      <td>67.10</td>\n",
       "      <td>83</td>\n",
       "      <td>42</td>\n",
       "      <td>1</td>\n",
       "      <td>0</td>\n",
       "      <td>1</td>\n",
       "      <td>0</td>\n",
       "      <td>0</td>\n",
       "      <td>0</td>\n",
       "      <td>1</td>\n",
       "      <td>0</td>\n",
       "      <td>0</td>\n",
       "      <td>1</td>\n",
       "      <td>0</td>\n",
       "      <td>0</td>\n",
       "      <td>0</td>\n",
       "      <td>0</td>\n",
       "      <td>1</td>\n",
       "    </tr>\n",
       "    <tr>\n",
       "      <th>3</th>\n",
       "      <td>79</td>\n",
       "      <td>126.50</td>\n",
       "      <td>46</td>\n",
       "      <td>61</td>\n",
       "      <td>4</td>\n",
       "      <td>0</td>\n",
       "      <td>1</td>\n",
       "      <td>0</td>\n",
       "      <td>0</td>\n",
       "      <td>0</td>\n",
       "      <td>0</td>\n",
       "      <td>1</td>\n",
       "      <td>0</td>\n",
       "      <td>1</td>\n",
       "      <td>0</td>\n",
       "      <td>0</td>\n",
       "      <td>0</td>\n",
       "      <td>1</td>\n",
       "      <td>0</td>\n",
       "    </tr>\n",
       "    <tr>\n",
       "      <th>4</th>\n",
       "      <td>65</td>\n",
       "      <td>109.00</td>\n",
       "      <td>61</td>\n",
       "      <td>88</td>\n",
       "      <td>8</td>\n",
       "      <td>0</td>\n",
       "      <td>0</td>\n",
       "      <td>0</td>\n",
       "      <td>1</td>\n",
       "      <td>0</td>\n",
       "      <td>0</td>\n",
       "      <td>1</td>\n",
       "      <td>0</td>\n",
       "      <td>0</td>\n",
       "      <td>0</td>\n",
       "      <td>1</td>\n",
       "      <td>0</td>\n",
       "      <td>1</td>\n",
       "      <td>0</td>\n",
       "    </tr>\n",
       "    <tr>\n",
       "      <th>...</th>\n",
       "      <td>...</td>\n",
       "      <td>...</td>\n",
       "      <td>...</td>\n",
       "      <td>...</td>\n",
       "      <td>...</td>\n",
       "      <td>...</td>\n",
       "      <td>...</td>\n",
       "      <td>...</td>\n",
       "      <td>...</td>\n",
       "      <td>...</td>\n",
       "      <td>...</td>\n",
       "      <td>...</td>\n",
       "      <td>...</td>\n",
       "      <td>...</td>\n",
       "      <td>...</td>\n",
       "      <td>...</td>\n",
       "      <td>...</td>\n",
       "      <td>...</td>\n",
       "      <td>...</td>\n",
       "    </tr>\n",
       "    <tr>\n",
       "      <th>300</th>\n",
       "      <td>67</td>\n",
       "      <td>78.50</td>\n",
       "      <td>67</td>\n",
       "      <td>50</td>\n",
       "      <td>3</td>\n",
       "      <td>0</td>\n",
       "      <td>1</td>\n",
       "      <td>0</td>\n",
       "      <td>0</td>\n",
       "      <td>0</td>\n",
       "      <td>1</td>\n",
       "      <td>0</td>\n",
       "      <td>0</td>\n",
       "      <td>1</td>\n",
       "      <td>0</td>\n",
       "      <td>0</td>\n",
       "      <td>0</td>\n",
       "      <td>0</td>\n",
       "      <td>1</td>\n",
       "    </tr>\n",
       "    <tr>\n",
       "      <th>301</th>\n",
       "      <td>67</td>\n",
       "      <td>88.94</td>\n",
       "      <td>58</td>\n",
       "      <td>56</td>\n",
       "      <td>7</td>\n",
       "      <td>0</td>\n",
       "      <td>1</td>\n",
       "      <td>0</td>\n",
       "      <td>0</td>\n",
       "      <td>0</td>\n",
       "      <td>1</td>\n",
       "      <td>0</td>\n",
       "      <td>0</td>\n",
       "      <td>0</td>\n",
       "      <td>0</td>\n",
       "      <td>1</td>\n",
       "      <td>0</td>\n",
       "      <td>0</td>\n",
       "      <td>1</td>\n",
       "    </tr>\n",
       "    <tr>\n",
       "      <th>302</th>\n",
       "      <td>45</td>\n",
       "      <td>76.10</td>\n",
       "      <td>82</td>\n",
       "      <td>83</td>\n",
       "      <td>4</td>\n",
       "      <td>0</td>\n",
       "      <td>0</td>\n",
       "      <td>0</td>\n",
       "      <td>1</td>\n",
       "      <td>0</td>\n",
       "      <td>1</td>\n",
       "      <td>0</td>\n",
       "      <td>0</td>\n",
       "      <td>1</td>\n",
       "      <td>0</td>\n",
       "      <td>0</td>\n",
       "      <td>0</td>\n",
       "      <td>0</td>\n",
       "      <td>1</td>\n",
       "    </tr>\n",
       "    <tr>\n",
       "      <th>303</th>\n",
       "      <td>65</td>\n",
       "      <td>91.08</td>\n",
       "      <td>57</td>\n",
       "      <td>44</td>\n",
       "      <td>3</td>\n",
       "      <td>0</td>\n",
       "      <td>1</td>\n",
       "      <td>0</td>\n",
       "      <td>0</td>\n",
       "      <td>0</td>\n",
       "      <td>1</td>\n",
       "      <td>0</td>\n",
       "      <td>0</td>\n",
       "      <td>1</td>\n",
       "      <td>0</td>\n",
       "      <td>0</td>\n",
       "      <td>0</td>\n",
       "      <td>0</td>\n",
       "      <td>1</td>\n",
       "    </tr>\n",
       "    <tr>\n",
       "      <th>304</th>\n",
       "      <td>55</td>\n",
       "      <td>111.70</td>\n",
       "      <td>64</td>\n",
       "      <td>75</td>\n",
       "      <td>3</td>\n",
       "      <td>0</td>\n",
       "      <td>0</td>\n",
       "      <td>0</td>\n",
       "      <td>1</td>\n",
       "      <td>0</td>\n",
       "      <td>1</td>\n",
       "      <td>0</td>\n",
       "      <td>0</td>\n",
       "      <td>1</td>\n",
       "      <td>0</td>\n",
       "      <td>0</td>\n",
       "      <td>0</td>\n",
       "      <td>1</td>\n",
       "      <td>0</td>\n",
       "    </tr>\n",
       "  </tbody>\n",
       "</table>\n",
       "<p>305 rows × 19 columns</p>\n",
       "</div>"
      ],
      "text/plain": [
       "     Возраст  Креат. 1  рСКФ  Критерий Х  NEWS-2  X_оценка_Л  X_оценка_СТ  \\\n",
       "0         84     80.30    58          53       2           0            1   \n",
       "1         46     92.22    85          60       2           0            1   \n",
       "2         65     67.10    83          42       1           0            1   \n",
       "3         79    126.50    46          61       4           0            1   \n",
       "4         65    109.00    61          88       8           0            0   \n",
       "..       ...       ...   ...         ...     ...         ...          ...   \n",
       "300       67     78.50    67          50       3           0            1   \n",
       "301       67     88.94    58          56       7           0            1   \n",
       "302       45     76.10    82          83       4           0            0   \n",
       "303       65     91.08    57          44       3           0            1   \n",
       "304       55    111.70    64          75       3           0            0   \n",
       "\n",
       "     X_оценка_СТ   X_оценка_Т  Клин_Оценка_Л  Клин_Оценка_СТ  Клин_Оценка_Т  \\\n",
       "0               0           0              0               0              1   \n",
       "1               0           0              0               1              0   \n",
       "2               0           0              0               1              0   \n",
       "3               0           0              0               0              1   \n",
       "4               0           1              0               0              1   \n",
       "..            ...         ...            ...             ...            ...   \n",
       "300             0           0              0               1              0   \n",
       "301             0           0              0               1              0   \n",
       "302             0           1              0               1              0   \n",
       "303             0           0              0               1              0   \n",
       "304             0           1              0               1              0   \n",
       "\n",
       "     NEWS_Оценка_Д  NEWS_Оценка_Л  NEWS_Оценка_СТ  NEWS_Оценка_Т  \\\n",
       "0                0              1               0              0   \n",
       "1                0              1               0              0   \n",
       "2                0              1               0              0   \n",
       "3                0              1               0              0   \n",
       "4                0              0               0              1   \n",
       "..             ...            ...             ...            ...   \n",
       "300              0              1               0              0   \n",
       "301              0              0               0              1   \n",
       "302              0              1               0              0   \n",
       "303              0              1               0              0   \n",
       "304              0              1               0              0   \n",
       "\n",
       "     NEWS_Оценка_Т   Пол_1  Пол_2  \n",
       "0                 0      0      1  \n",
       "1                 0      1      0  \n",
       "2                 0      0      1  \n",
       "3                 0      1      0  \n",
       "4                 0      1      0  \n",
       "..              ...    ...    ...  \n",
       "300               0      0      1  \n",
       "301               0      0      1  \n",
       "302               0      0      1  \n",
       "303               0      0      1  \n",
       "304               0      1      0  \n",
       "\n",
       "[305 rows x 19 columns]"
      ]
     },
     "execution_count": 345,
     "metadata": {},
     "output_type": "execute_result"
    }
   ],
   "source": [
    "binary_data = pd.get_dummies(data=data, columns=['X_оценка','Клин_Оценка','NEWS_Оценка','Пол'])\n",
    "binary_data"
   ]
  },
  {
   "cell_type": "code",
   "execution_count": 346,
   "id": "02d6e079",
   "metadata": {},
   "outputs": [
    {
     "name": "stdout",
     "output_type": "stream",
     "text": [
      "<class 'pandas.core.frame.DataFrame'>\n",
      "RangeIndex: 305 entries, 0 to 304\n",
      "Data columns (total 19 columns):\n",
      " #   Column          Non-Null Count  Dtype  \n",
      "---  ------          --------------  -----  \n",
      " 0   Возраст         305 non-null    int64  \n",
      " 1   Креат. 1        305 non-null    float64\n",
      " 2   рСКФ            305 non-null    int64  \n",
      " 3   Критерий Х      305 non-null    int64  \n",
      " 4   NEWS-2          305 non-null    int64  \n",
      " 5   X_оценка_Л      305 non-null    uint8  \n",
      " 6   X_оценка_СТ     305 non-null    uint8  \n",
      " 7   X_оценка_СТ     305 non-null    uint8  \n",
      " 8   X_оценка_Т      305 non-null    uint8  \n",
      " 9   Клин_Оценка_Л   305 non-null    uint8  \n",
      " 10  Клин_Оценка_СТ  305 non-null    uint8  \n",
      " 11  Клин_Оценка_Т   305 non-null    uint8  \n",
      " 12  NEWS_Оценка_Д   305 non-null    uint8  \n",
      " 13  NEWS_Оценка_Л   305 non-null    uint8  \n",
      " 14  NEWS_Оценка_СТ  305 non-null    uint8  \n",
      " 15  NEWS_Оценка_Т   305 non-null    uint8  \n",
      " 16  NEWS_Оценка_Т   305 non-null    uint8  \n",
      " 17  Пол_1           305 non-null    uint8  \n",
      " 18  Пол_2           305 non-null    uint8  \n",
      "dtypes: float64(1), int64(4), uint8(14)\n",
      "memory usage: 16.2 KB\n"
     ]
    }
   ],
   "source": [
    "binary_data.info()"
   ]
  },
  {
   "attachments": {},
   "cell_type": "markdown",
   "id": "9c0df735",
   "metadata": {},
   "source": [
    "# теперь все данные имеют числовой порядок"
   ]
  },
  {
   "cell_type": "code",
   "execution_count": null,
   "id": "507740c3",
   "metadata": {},
   "outputs": [],
   "source": []
  },
  {
   "cell_type": "code",
   "execution_count": 347,
   "id": "d334bd53",
   "metadata": {},
   "outputs": [
    {
     "data": {
      "text/plain": [
       "<Axes: xlabel='Возраст', ylabel='Count'>"
      ]
     },
     "execution_count": 347,
     "metadata": {},
     "output_type": "execute_result"
    },
    {
     "data": {
      "image/png": "[encoded data removed]",
      "text/plain": [
       "<Figure size 640x480 with 1 Axes>"
      ]
     },
     "metadata": {},
     "output_type": "display_data"
    }
   ],
   "source": [
    "# Для качественной оценки данных, построем несколько графиков\n",
    "# Начнём с графика возраста, с детерминацие пола пациента\n",
    "sns.histplot(data=binary_data, x ='Возраст',hue='Пол_1')"
   ]
  },
  {
   "cell_type": "code",
   "execution_count": 348,
   "id": "4381ab40",
   "metadata": {},
   "outputs": [
    {
     "data": {
      "text/plain": [
       "<Axes: xlabel='Креат. 1', ylabel='Count'>"
      ]
     },
     "execution_count": 348,
     "metadata": {},
     "output_type": "execute_result"
    },
    {
     "data": {
      "image/png": "[encoded data removed]",
      "text/plain": [
       "<Figure size 640x480 with 1 Axes>"
      ]
     },
     "metadata": {},
     "output_type": "display_data"
    }
   ],
   "source": [
    "# График распределения \"Креат. 1\"\n",
    "sns.histplot(data=binary_data, x ='Креат. 1',hue='Пол_1')"
   ]
  },
  {
   "cell_type": "code",
   "execution_count": 349,
   "id": "33d8285a",
   "metadata": {},
   "outputs": [
    {
     "data": {
      "text/plain": [
       "<seaborn.axisgrid.PairGrid at 0x7f9418c0c9a0>"
      ]
     },
     "execution_count": 349,
     "metadata": {},
     "output_type": "execute_result"
    },
    {
     "data": {
      "image/png": "[encoded data removed]",
      "text/plain": [
       "<Figure size 750x750 with 12 Axes>"
      ]
     },
     "metadata": {},
     "output_type": "display_data"
    }
   ],
   "source": [
    "sns.pairplot(data[['Возраст', 'Креат. 1', 'рСКФ']])"
   ]
  },
  {
   "cell_type": "code",
   "execution_count": 350,
   "id": "668e34e0",
   "metadata": {},
   "outputs": [],
   "source": [
    "# разобъем наши данные на обучающие и тестовые, чтобы компьюетр мог выявить алгоритм, если он имеется"
   ]
  },
  {
   "cell_type": "code",
   "execution_count": 351,
   "id": "86a1940f",
   "metadata": {},
   "outputs": [
    {
     "data": {
      "text/plain": [
       "10"
      ]
     },
     "execution_count": 351,
     "metadata": {},
     "output_type": "execute_result"
    }
   ],
   "source": [
    "X = binary_data[['Возраст', 'Креат. 1', 'рСКФ','NEWS-2','Пол_1']]\n",
    "len(np.unique(X['NEWS-2']))"
   ]
  },
  {
   "cell_type": "code",
   "execution_count": 352,
   "id": "4f6694ad",
   "metadata": {},
   "outputs": [],
   "source": [
    "# переведем значения столбца в числа, оставив один столбец\n",
    "\n",
    "from sklearn.preprocessing import LabelEncoder\n",
    "le = LabelEncoder()"
   ]
  },
  {
   "cell_type": "code",
   "execution_count": 353,
   "id": "23362845",
   "metadata": {},
   "outputs": [
    {
     "data": {
      "text/plain": [
       "Index(['Возраст', 'Пол', 'Креат. 1', 'рСКФ', 'Критерий Х', 'X_оценка',\n",
       "       'Клин_Оценка', 'NEWS-2', 'NEWS_Оценка'],\n",
       "      dtype='object')"
      ]
     },
     "execution_count": 353,
     "metadata": {},
     "output_type": "execute_result"
    }
   ],
   "source": [
    "data.columns"
   ]
  },
  {
   "cell_type": "code",
   "execution_count": 354,
   "id": "61cfe61b",
   "metadata": {},
   "outputs": [
    {
     "data": {
      "text/plain": [
       "LabelEncoder()"
      ]
     },
     "execution_count": 354,
     "metadata": {},
     "output_type": "execute_result"
    }
   ],
   "source": [
    "le.fit(data['NEWS-2'])"
   ]
  },
  {
   "cell_type": "code",
   "execution_count": 355,
   "id": "43d71f4e",
   "metadata": {},
   "outputs": [
    {
     "data": {
      "text/plain": [
       "array([ 0,  1,  2,  3,  4,  5,  6,  7,  8, 12])"
      ]
     },
     "execution_count": 355,
     "metadata": {},
     "output_type": "execute_result"
    }
   ],
   "source": [
    "le.classes_"
   ]
  },
  {
   "cell_type": "code",
   "execution_count": 356,
   "id": "5befcef4",
   "metadata": {},
   "outputs": [],
   "source": [
    "y = pd.Series(data = le.transform(data['NEWS-2']))"
   ]
  },
  {
   "cell_type": "code",
   "execution_count": 357,
   "id": "023577f2",
   "metadata": {},
   "outputs": [],
   "source": [
    "X.drop(columns=['NEWS-2'],inplace=True)"
   ]
  },
  {
   "cell_type": "code",
   "execution_count": 358,
   "id": "69dacd86",
   "metadata": {},
   "outputs": [
    {
     "data": {
      "text/html": [
       "<div>\n",
       "<style scoped>\n",
       "    .dataframe tbody tr th:only-of-type {\n",
       "        vertical-align: middle;\n",
       "    }\n",
       "\n",
       "    .dataframe tbody tr th {\n",
       "        vertical-align: top;\n",
       "    }\n",
       "\n",
       "    .dataframe thead th {\n",
       "        text-align: right;\n",
       "    }\n",
       "</style>\n",
       "<table border=\"1\" class=\"dataframe\">\n",
       "  <thead>\n",
       "    <tr style=\"text-align: right;\">\n",
       "      <th></th>\n",
       "      <th>Возраст</th>\n",
       "      <th>Креат. 1</th>\n",
       "      <th>рСКФ</th>\n",
       "      <th>Пол_1</th>\n",
       "    </tr>\n",
       "  </thead>\n",
       "  <tbody>\n",
       "    <tr>\n",
       "      <th>0</th>\n",
       "      <td>84</td>\n",
       "      <td>80.30</td>\n",
       "      <td>58</td>\n",
       "      <td>0</td>\n",
       "    </tr>\n",
       "    <tr>\n",
       "      <th>1</th>\n",
       "      <td>46</td>\n",
       "      <td>92.22</td>\n",
       "      <td>85</td>\n",
       "      <td>1</td>\n",
       "    </tr>\n",
       "    <tr>\n",
       "      <th>2</th>\n",
       "      <td>65</td>\n",
       "      <td>67.10</td>\n",
       "      <td>83</td>\n",
       "      <td>0</td>\n",
       "    </tr>\n",
       "    <tr>\n",
       "      <th>3</th>\n",
       "      <td>79</td>\n",
       "      <td>126.50</td>\n",
       "      <td>46</td>\n",
       "      <td>1</td>\n",
       "    </tr>\n",
       "    <tr>\n",
       "      <th>4</th>\n",
       "      <td>65</td>\n",
       "      <td>109.00</td>\n",
       "      <td>61</td>\n",
       "      <td>1</td>\n",
       "    </tr>\n",
       "    <tr>\n",
       "      <th>...</th>\n",
       "      <td>...</td>\n",
       "      <td>...</td>\n",
       "      <td>...</td>\n",
       "      <td>...</td>\n",
       "    </tr>\n",
       "    <tr>\n",
       "      <th>300</th>\n",
       "      <td>67</td>\n",
       "      <td>78.50</td>\n",
       "      <td>67</td>\n",
       "      <td>0</td>\n",
       "    </tr>\n",
       "    <tr>\n",
       "      <th>301</th>\n",
       "      <td>67</td>\n",
       "      <td>88.94</td>\n",
       "      <td>58</td>\n",
       "      <td>0</td>\n",
       "    </tr>\n",
       "    <tr>\n",
       "      <th>302</th>\n",
       "      <td>45</td>\n",
       "      <td>76.10</td>\n",
       "      <td>82</td>\n",
       "      <td>0</td>\n",
       "    </tr>\n",
       "    <tr>\n",
       "      <th>303</th>\n",
       "      <td>65</td>\n",
       "      <td>91.08</td>\n",
       "      <td>57</td>\n",
       "      <td>0</td>\n",
       "    </tr>\n",
       "    <tr>\n",
       "      <th>304</th>\n",
       "      <td>55</td>\n",
       "      <td>111.70</td>\n",
       "      <td>64</td>\n",
       "      <td>1</td>\n",
       "    </tr>\n",
       "  </tbody>\n",
       "</table>\n",
       "<p>305 rows × 4 columns</p>\n",
       "</div>"
      ],
      "text/plain": [
       "     Возраст  Креат. 1  рСКФ  Пол_1\n",
       "0         84     80.30    58      0\n",
       "1         46     92.22    85      1\n",
       "2         65     67.10    83      0\n",
       "3         79    126.50    46      1\n",
       "4         65    109.00    61      1\n",
       "..       ...       ...   ...    ...\n",
       "300       67     78.50    67      0\n",
       "301       67     88.94    58      0\n",
       "302       45     76.10    82      0\n",
       "303       65     91.08    57      0\n",
       "304       55    111.70    64      1\n",
       "\n",
       "[305 rows x 4 columns]"
      ]
     },
     "execution_count": 358,
     "metadata": {},
     "output_type": "execute_result"
    }
   ],
   "source": [
    "X"
   ]
  },
  {
   "cell_type": "code",
   "execution_count": 359,
   "id": "a8da4e8c",
   "metadata": {},
   "outputs": [
    {
     "data": {
      "text/plain": [
       "0      2\n",
       "1      2\n",
       "2      1\n",
       "3      4\n",
       "4      8\n",
       "      ..\n",
       "300    3\n",
       "301    7\n",
       "302    4\n",
       "303    3\n",
       "304    3\n",
       "Length: 305, dtype: int64"
      ]
     },
     "execution_count": 359,
     "metadata": {},
     "output_type": "execute_result"
    }
   ],
   "source": [
    "y"
   ]
  },
  {
   "cell_type": "code",
   "execution_count": 360,
   "id": "9cb2b381",
   "metadata": {},
   "outputs": [],
   "source": [
    "X_train, X_test, y_train, y_test = train_test_split(X, y, test_size=0.2, random_state=42)"
   ]
  },
  {
   "cell_type": "code",
   "execution_count": 361,
   "id": "531f0f49",
   "metadata": {},
   "outputs": [
    {
     "data": {
      "text/plain": [
       "SVC()"
      ]
     },
     "execution_count": 361,
     "metadata": {},
     "output_type": "execute_result"
    }
   ],
   "source": [
    "model = LogisticRegression()\n",
    "modelsvc = SVC()\n",
    "model.fit(X_train,y_train)\n",
    "modelsvc.fit(X_train,y_train)"
   ]
  },
  {
   "attachments": {},
   "cell_type": "markdown",
   "id": "d0e20163",
   "metadata": {},
   "source": [
    "# Первый признак оценки состоит в том, чтобы оценить насколько хорошо предсказываются значения. Метрика accuracy"
   ]
  },
  {
   "attachments": {},
   "cell_type": "markdown",
   "id": "fac58fdd",
   "metadata": {},
   "source": [
    "$$\n",
    "accuracy(y, \\hat{y}) = \\frac{1}{n_{samles}} \\sum\\limits_{i=0}^{n_{samles}-1}1(\\hat{y}=y)\n",
    "$$"
   ]
  },
  {
   "cell_type": "code",
   "execution_count": 362,
   "id": "cf4a2889",
   "metadata": {},
   "outputs": [
    {
     "data": {
      "text/plain": [
       "0.19672131147540983"
      ]
     },
     "execution_count": 362,
     "metadata": {},
     "output_type": "execute_result"
    }
   ],
   "source": [
    "# Linearmodel \n",
    "import numpy as np\n",
    "from sklearn.metrics import accuracy_score\n",
    "accuracy_score(y_test, model.predict(X_test))"
   ]
  },
  {
   "cell_type": "code",
   "execution_count": 363,
   "id": "6b95dd7b",
   "metadata": {},
   "outputs": [
    {
     "data": {
      "text/plain": [
       "0.2459016393442623"
      ]
     },
     "execution_count": 363,
     "metadata": {},
     "output_type": "execute_result"
    }
   ],
   "source": [
    "# SVC \n",
    "import numpy as np\n",
    "from sklearn.metrics import accuracy_score\n",
    "accuracy_score(y_test, modelsvc.predict(X_test))"
   ]
  },
  {
   "cell_type": "code",
   "execution_count": 364,
   "id": "b2f9f71b",
   "metadata": {},
   "outputs": [
    {
     "data": {
      "text/plain": [
       "array([7, 3, 5, 5, 3, 5, 3, 3, 3, 2, 3, 1, 8, 7, 2, 2, 6, 9, 0, 4, 2, 4,\n",
       "       3, 2, 3, 5, 1, 4, 4, 3, 3, 1, 4, 6, 2, 3, 3, 5, 3, 3, 2, 4, 4, 6,\n",
       "       7, 3, 2, 2, 3, 3, 4, 6, 4, 2, 2, 3, 5, 4, 4, 7, 2])"
      ]
     },
     "execution_count": 364,
     "metadata": {},
     "output_type": "execute_result"
    }
   ],
   "source": [
    "np.array(y_test)"
   ]
  },
  {
   "cell_type": "code",
   "execution_count": 365,
   "id": "cb2087ab",
   "metadata": {},
   "outputs": [
    {
     "name": "stdout",
     "output_type": "stream",
     "text": [
      "[0.04 0.16 0.15 0.22 0.19 0.09 0.06 0.09 0.02] 7\n",
      "[0.04 0.15 0.26 0.21 0.12 0.09 0.08 0.05 0.01] 3\n",
      "[0.04 0.17 0.14 0.22 0.16 0.08 0.07 0.09 0.02] 5\n",
      "[0.03 0.12 0.31 0.2  0.15 0.09 0.04 0.04 0.01] 5\n",
      "[0.04 0.13 0.22 0.21 0.12 0.09 0.11 0.06 0.01] 3\n",
      "[0.03 0.07 0.26 0.18 0.22 0.11 0.04 0.06 0.02] 5\n",
      "[0.04 0.16 0.1  0.21 0.12 0.07 0.16 0.12 0.02] 3\n",
      "[0.04 0.12 0.13 0.21 0.22 0.1  0.06 0.11 0.03] 3\n",
      "[0.04 0.14 0.12 0.21 0.16 0.08 0.1  0.11 0.02] 3\n",
      "[0.04 0.18 0.22 0.22 0.09 0.08 0.12 0.05 0.  ] 2\n",
      "[0.04 0.22 0.15 0.23 0.13 0.08 0.07 0.08 0.01] 3\n",
      "[0.04 0.19 0.15 0.23 0.16 0.08 0.06 0.08 0.01] 1\n",
      "[0.04 0.13 0.13 0.21 0.2  0.09 0.07 0.11 0.03] 8\n",
      "[0.04 0.28 0.2  0.23 0.11 0.07 0.03 0.04 0.  ] 7\n",
      "[0.04 0.19 0.16 0.23 0.16 0.08 0.06 0.08 0.01] 2\n",
      "[0.04 0.14 0.2  0.21 0.1  0.08 0.15 0.07 0.01] 2\n",
      "[0.04 0.15 0.15 0.22 0.19 0.09 0.05 0.09 0.02] 6\n",
      "[0.02 0.02 0.11 0.14 0.24 0.1  0.2  0.13 0.06] 9\n",
      "[0.03 0.12 0.2  0.2  0.26 0.1  0.02 0.06 0.02] 0\n",
      "[0.04 0.2  0.14 0.23 0.14 0.08 0.08 0.09 0.01] 4\n",
      "[0.04 0.15 0.26 0.22 0.11 0.09 0.08 0.05 0.01] 2\n",
      "[0.04 0.22 0.19 0.23 0.15 0.08 0.03 0.06 0.01] 4\n",
      "[0.03 0.2  0.24 0.22 0.18 0.08 0.01 0.04 0.  ] 3\n",
      "[0.03 0.18 0.32 0.22 0.1  0.08 0.04 0.03 0.  ] 2\n",
      "[0.04 0.12 0.26 0.21 0.15 0.1  0.07 0.06 0.01] 3\n",
      "[0.04 0.09 0.21 0.2  0.16 0.1  0.11 0.08 0.02] 5\n",
      "[0.04 0.24 0.16 0.23 0.12 0.07 0.06 0.06 0.01] 1\n",
      "[0.04 0.12 0.28 0.21 0.15 0.1  0.06 0.05 0.01] 4\n",
      "[0.01 0.02 0.06 0.11 0.36 0.09 0.06 0.15 0.14] 4\n",
      "[0.04 0.16 0.15 0.22 0.18 0.09 0.06 0.09 0.02] 3\n",
      "[0.03 0.05 0.15 0.17 0.19 0.1  0.17 0.11 0.03] 3\n",
      "[0.03 0.09 0.29 0.19 0.19 0.11 0.04 0.05 0.01] 1\n",
      "[0.04 0.24 0.13 0.23 0.11 0.07 0.1  0.08 0.01] 4\n",
      "[0.03 0.16 0.19 0.22 0.2  0.09 0.03 0.06 0.01] 6\n",
      "[0.03 0.04 0.13 0.17 0.18 0.1  0.2  0.11 0.03] 2\n",
      "[0.03 0.1  0.28 0.2  0.17 0.1  0.05 0.05 0.01] 3\n",
      "[0.04 0.19 0.11 0.22 0.11 0.07 0.14 0.11 0.01] 3\n",
      "[0.04 0.25 0.11 0.22 0.09 0.06 0.12 0.08 0.01] 5\n",
      "[0.03 0.11 0.29 0.2  0.17 0.1  0.04 0.05 0.01] 3\n",
      "[0.04 0.27 0.19 0.23 0.12 0.07 0.03 0.05 0.  ] 3\n",
      "[0.04 0.08 0.19 0.19 0.17 0.1  0.13 0.09 0.02] 2\n",
      "[0.03 0.13 0.18 0.21 0.24 0.1  0.03 0.07 0.02] 4\n",
      "[0.04 0.18 0.11 0.22 0.12 0.07 0.13 0.11 0.01] 4\n",
      "[0.04 0.17 0.2  0.21 0.08 0.08 0.15 0.06 0.01] 6\n",
      "[0.04 0.2  0.2  0.21 0.07 0.07 0.16 0.05 0.  ] 7\n",
      "[0.04 0.16 0.15 0.22 0.18 0.09 0.06 0.09 0.02] 3\n",
      "[0.04 0.16 0.1  0.21 0.12 0.07 0.15 0.12 0.02] 2\n",
      "[0.04 0.22 0.14 0.23 0.13 0.08 0.08 0.08 0.01] 2\n",
      "[0.03 0.06 0.13 0.18 0.14 0.09 0.26 0.11 0.02] 3\n",
      "[0.04 0.07 0.15 0.19 0.13 0.09 0.21 0.1  0.02] 3\n",
      "[0.04 0.18 0.17 0.22 0.18 0.09 0.04 0.07 0.01] 4\n",
      "[0.04 0.21 0.14 0.23 0.13 0.08 0.07 0.08 0.01] 6\n",
      "[0.04 0.15 0.2  0.21 0.1  0.08 0.14 0.06 0.01] 4\n",
      "[0.04 0.23 0.15 0.23 0.13 0.07 0.06 0.07 0.01] 2\n",
      "[0.04 0.17 0.17 0.22 0.19 0.09 0.04 0.07 0.01] 2\n",
      "[0.04 0.13 0.24 0.21 0.13 0.09 0.09 0.06 0.01] 3\n",
      "[0.04 0.17 0.17 0.22 0.18 0.09 0.04 0.07 0.01] 5\n",
      "[0.04 0.15 0.28 0.21 0.12 0.09 0.06 0.04 0.01] 4\n",
      "[0.03 0.09 0.33 0.18 0.2  0.1  0.02 0.04 0.01] 4\n",
      "[0.03 0.18 0.19 0.22 0.19 0.09 0.03 0.06 0.01] 7\n",
      "[0.03 0.07 0.16 0.17 0.34 0.11 0.02 0.08 0.04] 2\n"
     ]
    }
   ],
   "source": [
    "for i in range(0,len(X_test)):\n",
    "    print(model.predict_proba(X_test)[i].round(2), np.array(y_test)[i])"
   ]
  },
  {
   "cell_type": "code",
   "execution_count": 366,
   "id": "3ba71c5b",
   "metadata": {},
   "outputs": [
    {
     "name": "stdout",
     "output_type": "stream",
     "text": [
      "              precision    recall  f1-score   support\n",
      "\n",
      "           0       0.00      0.00      0.00         9\n",
      "           1       0.00      0.00      0.00        34\n",
      "           2       0.27      0.82      0.40        50\n",
      "           3       0.22      0.39      0.28        51\n",
      "           4       0.00      0.00      0.00        40\n",
      "           5       0.00      0.00      0.00        22\n",
      "           6       0.00      0.00      0.00        19\n",
      "           7       0.00      0.00      0.00        16\n",
      "           8       0.00      0.00      0.00         3\n",
      "\n",
      "    accuracy                           0.25       244\n",
      "   macro avg       0.05      0.13      0.08       244\n",
      "weighted avg       0.10      0.25      0.14       244\n",
      "\n"
     ]
    }
   ],
   "source": [
    "from sklearn.metrics import classification_report\n",
    "target_names = ['0', '1', '2','3', '4', '5','6', '7', '8']\n",
    "print(classification_report(y_train, modelsvc.predict(X_train), target_names=target_names))\n",
    "              "
   ]
  },
  {
   "attachments": {},
   "cell_type": "markdown",
   "id": "c2d4d7e5",
   "metadata": {},
   "source": [
    "# вот это основной результат, который говорит о том, что предсказывать легко получается только средней тяжести больных, точность более 90 процентов.ь"
   ]
  },
  {
   "attachments": {},
   "cell_type": "markdown",
   "id": "2bf804bb",
   "metadata": {},
   "source": [
    "# Haming loss"
   ]
  },
  {
   "cell_type": "code",
   "execution_count": 367,
   "id": "5a0c0a94",
   "metadata": {},
   "outputs": [
    {
     "data": {
      "text/plain": [
       "0.8032786885245902"
      ]
     },
     "execution_count": 367,
     "metadata": {},
     "output_type": "execute_result"
    }
   ],
   "source": [
    "from sklearn.metrics import hamming_loss\n",
    "hamming_loss(y_test, model.predict(X_test))\n"
   ]
  },
  {
   "attachments": {},
   "cell_type": "markdown",
   "id": "21304cc7",
   "metadata": {},
   "source": [
    "### Найдём основные метрики "
   ]
  },
  {
   "cell_type": "code",
   "execution_count": 368,
   "id": "897535be",
   "metadata": {},
   "outputs": [],
   "source": [
    "from sklearn.linear_model import LogisticRegression\n",
    "from sklearn.neighbors import KNeighborsClassifier"
   ]
  },
  {
   "cell_type": "code",
   "execution_count": 369,
   "id": "ce246a96",
   "metadata": {},
   "outputs": [
    {
     "name": "stdout",
     "output_type": "stream",
     "text": [
      "fit_time   [0.002 0.002 0.002 0.002 0.002 0.002 0.002 0.002 0.002 0.002] \n",
      "\n",
      "score_time   [0.003 0.002 0.002 0.002 0.002 0.002 0.002 0.002 0.002 0.002] \n",
      "\n",
      "test_accuracy   [nan nan nan nan nan nan nan nan nan nan] \n",
      "\n",
      "test_recall   [nan nan nan nan nan nan nan nan nan nan] \n",
      "\n",
      "test_precision   [nan nan nan nan nan nan nan nan nan nan] \n",
      "\n",
      "test_f1   [nan nan nan nan nan nan nan nan nan nan] \n",
      "\n"
     ]
    }
   ],
   "source": [
    "from sklearn.model_selection import cross_validate\n",
    "\n",
    "knn = KNeighborsClassifier(n_neighbors=5)\n",
    "scores = cross_validate(knn, X_test, y_test, cv=10, scoring=['accuracy','recall','precision','f1'])\n",
    "for i in scores.keys():\n",
    "    print(i, ' ',scores[i].round(3),'\\n')\n",
    "# print(scores.mean()"
   ]
  },
  {
   "cell_type": "code",
   "execution_count": 370,
   "id": "2acc9f0b",
   "metadata": {},
   "outputs": [
    {
     "name": "stdout",
     "output_type": "stream",
     "text": [
      "1 : 0.13 0.0603\n",
      "2 : 0.13 0.0549\n",
      "3 : 0.12 0.058\n",
      "4 : 0.11 0.0396\n",
      "5 : 0.1 0.0642\n",
      "6 : 0.13 0.0531\n",
      "7 : 0.13 0.0283\n",
      "8 : 0.16 0.0463\n",
      "9 : 0.15 0.0456\n",
      "10 : 0.15 0.061\n",
      "11 : 0.15 0.0563\n",
      "12 : 0.14 0.0612\n",
      "13 : 0.14 0.0478\n",
      "14 : 0.15 0.0487\n",
      "15 : 0.15 0.0688\n",
      "16 : 0.15 0.0752\n",
      "17 : 0.15 0.0658\n",
      "18 : 0.14 0.0612\n",
      "19 : 0.15 0.061\n",
      "20 : 0.15 0.0649\n",
      "21 : 0.14 0.0529\n",
      "22 : 0.15 0.0634\n",
      "23 : 0.16 0.0722\n",
      "24 : 0.14 0.0648\n",
      "25 : 0.16 0.0729\n",
      "26 : 0.16 0.0659\n",
      "27 : 0.14 0.0517\n",
      "28 : 0.17 0.0723\n",
      "29 : 0.16 0.0736\n"
     ]
    }
   ],
   "source": [
    "from sklearn import svm, datasets\n",
    "from sklearn.model_selection import GridSearchCV\n",
    "from sklearn.model_selection import GridSearchCV\n",
    "from sklearn.model_selection import cross_val_score\n",
    "for i in list(range(1,30)):\n",
    "    knn = KNeighborsClassifier(n_neighbors=i)\n",
    "    scores = cross_val_score(knn, X, y, cv=10, scoring=\"accuracy\")\n",
    "    print(i, ':', scores.mean().round(2),  scores.std().round(4))"
   ]
  },
  {
   "cell_type": "code",
   "execution_count": 371,
   "id": "757e199f",
   "metadata": {},
   "outputs": [
    {
     "name": "stdout",
     "output_type": "stream",
     "text": [
      "{'n_neighbors': [1, 2, 3, 4, 5, 6, 7, 8, 9, 10, 11, 12, 13, 14, 15, 16, 17, 18, 19, 20, 21, 22, 23, 24, 25, 26, 27, 28, 29, 30]}\n"
     ]
    }
   ],
   "source": [
    "# define the parameter values that should be searched\n",
    "k_range = list(range(1, 31))\n",
    "# print(k_range)\n",
    "# create a parameter grid: map the parameter names to the values that should be searched\n",
    "# simply a python dictionary\n",
    "# key: parameter name\n",
    "# value: list of values that should be searched for that parameter\n",
    "# single key-value pair for param_grid\n",
    "param_grid = dict(n_neighbors=k_range)\n",
    "param_grid = {'n_neighbors':k_range}\n",
    "print(param_grid)"
   ]
  },
  {
   "cell_type": "code",
   "execution_count": 372,
   "id": "63468c9f",
   "metadata": {},
   "outputs": [
    {
     "data": {
      "text/plain": [
       "GridSearchCV(cv=10, estimator=KNeighborsClassifier(n_neighbors=29),\n",
       "             param_grid={'n_neighbors': [1, 2, 3, 4, 5, 6, 7, 8, 9, 10, 11, 12,\n",
       "                                         13, 14, 15, 16, 17, 18, 19, 20, 21, 22,\n",
       "                                         23, 24, 25, 26, 27, 28, 29, 30]},\n",
       "             scoring='accuracy')"
      ]
     },
     "execution_count": 372,
     "metadata": {},
     "output_type": "execute_result"
    }
   ],
   "source": [
    "grid = GridSearchCV(knn, param_grid, cv=10, scoring='accuracy')\n",
    "# fit the grid with data\n",
    "grid.fit(X, y)"
   ]
  },
  {
   "cell_type": "code",
   "execution_count": 373,
   "id": "7ad552b1",
   "metadata": {},
   "outputs": [
    {
     "name": "stdout",
     "output_type": "stream",
     "text": [
      "mean_fit_time : 0.0016880273818969727\n",
      "[0.13473118 0.13129032 0.11774194 0.11150538 0.10451613 0.12763441\n",
      " 0.12806452 0.15763441 0.14731183 0.15397849 0.15075269 0.14086022\n",
      " 0.14075269 0.14752688 0.15408602 0.14752688 0.15419355 0.14451613\n",
      " 0.15096774 0.1544086  0.14096774 0.1544086  0.15752688 0.14451613\n",
      " 0.15741935 0.15763441 0.1444086  0.16709677 0.16053763 0.15064516]\n"
     ]
    }
   ],
   "source": [
    "# view the complete results (list of named tuples)\n",
    "for k in grid.cv_results_:\n",
    "    print(k, \":\", grid.cv_results_[k][0])\n",
    "    break\n",
    "# create a list of the mean scores only\n",
    "test_scores = grid.cv_results_['mean_test_score']\n",
    "print(test_scores)"
   ]
  },
  {
   "cell_type": "code",
   "execution_count": 374,
   "id": "aa0665a5",
   "metadata": {},
   "outputs": [
    {
     "data": {
      "image/png": "[encoded data removed]",
      "text/plain": [
       "<Figure size 640x480 with 1 Axes>"
      ]
     },
     "metadata": {},
     "output_type": "display_data"
    }
   ],
   "source": [
    "# plot the results\n",
    "# this is identical to the one we generated above\n",
    "plt.plot(k_range, test_scores)\n",
    "plt.xlabel('Value of K for KNN')\n",
    "plt.ylabel('Cross-Validated Accuracy')\n",
    "plt.grid()"
   ]
  },
  {
   "attachments": {},
   "cell_type": "markdown",
   "id": "0b59c907",
   "metadata": {},
   "source": [
    "# Из графика видно, что самая оптимальная точность предсказания получается, когда количество классов больше 10. Поэтому имеет смысл придерживаться элемента NEWS"
   ]
  },
  {
   "cell_type": "code",
   "execution_count": 375,
   "id": "71f70083",
   "metadata": {},
   "outputs": [
    {
     "data": {
      "text/plain": [
       "array([ 0,  1,  2,  3,  4,  5,  6,  7,  8, 12])"
      ]
     },
     "execution_count": 375,
     "metadata": {},
     "output_type": "execute_result"
    }
   ],
   "source": [
    "le.fit(data['NEWS-2'])\n",
    "le.classes_"
   ]
  },
  {
   "cell_type": "code",
   "execution_count": 376,
   "id": "1c340a42",
   "metadata": {},
   "outputs": [
    {
     "data": {
      "text/plain": [
       "0      2\n",
       "1      2\n",
       "2      1\n",
       "3      4\n",
       "4      8\n",
       "      ..\n",
       "300    3\n",
       "301    7\n",
       "302    4\n",
       "303    3\n",
       "304    3\n",
       "Name: NEWS-2, Length: 305, dtype: int64"
      ]
     },
     "execution_count": 376,
     "metadata": {},
     "output_type": "execute_result"
    }
   ],
   "source": [
    "# Теперь возьмём в качестве y NEWS\n",
    "y = pd.Series(data = le.transform(data[\"NEWS-2\"]))\n",
    "# y = data[\"NEWS-2\"]\n",
    "# len(y.dropna())\n",
    "y=data[\"NEWS-2\"]\n",
    "y"
   ]
  },
  {
   "cell_type": "code",
   "execution_count": 377,
   "id": "b0042fb8",
   "metadata": {},
   "outputs": [
    {
     "data": {
      "text/html": [
       "<div>\n",
       "<style scoped>\n",
       "    .dataframe tbody tr th:only-of-type {\n",
       "        vertical-align: middle;\n",
       "    }\n",
       "\n",
       "    .dataframe tbody tr th {\n",
       "        vertical-align: top;\n",
       "    }\n",
       "\n",
       "    .dataframe thead th {\n",
       "        text-align: right;\n",
       "    }\n",
       "</style>\n",
       "<table border=\"1\" class=\"dataframe\">\n",
       "  <thead>\n",
       "    <tr style=\"text-align: right;\">\n",
       "      <th></th>\n",
       "      <th>Возраст</th>\n",
       "      <th>Креат. 1</th>\n",
       "      <th>рСКФ</th>\n",
       "      <th>Пол_1</th>\n",
       "    </tr>\n",
       "  </thead>\n",
       "  <tbody>\n",
       "    <tr>\n",
       "      <th>0</th>\n",
       "      <td>84</td>\n",
       "      <td>80.30</td>\n",
       "      <td>58</td>\n",
       "      <td>0</td>\n",
       "    </tr>\n",
       "    <tr>\n",
       "      <th>1</th>\n",
       "      <td>46</td>\n",
       "      <td>92.22</td>\n",
       "      <td>85</td>\n",
       "      <td>1</td>\n",
       "    </tr>\n",
       "    <tr>\n",
       "      <th>2</th>\n",
       "      <td>65</td>\n",
       "      <td>67.10</td>\n",
       "      <td>83</td>\n",
       "      <td>0</td>\n",
       "    </tr>\n",
       "    <tr>\n",
       "      <th>3</th>\n",
       "      <td>79</td>\n",
       "      <td>126.50</td>\n",
       "      <td>46</td>\n",
       "      <td>1</td>\n",
       "    </tr>\n",
       "    <tr>\n",
       "      <th>4</th>\n",
       "      <td>65</td>\n",
       "      <td>109.00</td>\n",
       "      <td>61</td>\n",
       "      <td>1</td>\n",
       "    </tr>\n",
       "    <tr>\n",
       "      <th>...</th>\n",
       "      <td>...</td>\n",
       "      <td>...</td>\n",
       "      <td>...</td>\n",
       "      <td>...</td>\n",
       "    </tr>\n",
       "    <tr>\n",
       "      <th>300</th>\n",
       "      <td>67</td>\n",
       "      <td>78.50</td>\n",
       "      <td>67</td>\n",
       "      <td>0</td>\n",
       "    </tr>\n",
       "    <tr>\n",
       "      <th>301</th>\n",
       "      <td>67</td>\n",
       "      <td>88.94</td>\n",
       "      <td>58</td>\n",
       "      <td>0</td>\n",
       "    </tr>\n",
       "    <tr>\n",
       "      <th>302</th>\n",
       "      <td>45</td>\n",
       "      <td>76.10</td>\n",
       "      <td>82</td>\n",
       "      <td>0</td>\n",
       "    </tr>\n",
       "    <tr>\n",
       "      <th>303</th>\n",
       "      <td>65</td>\n",
       "      <td>91.08</td>\n",
       "      <td>57</td>\n",
       "      <td>0</td>\n",
       "    </tr>\n",
       "    <tr>\n",
       "      <th>304</th>\n",
       "      <td>55</td>\n",
       "      <td>111.70</td>\n",
       "      <td>64</td>\n",
       "      <td>1</td>\n",
       "    </tr>\n",
       "  </tbody>\n",
       "</table>\n",
       "<p>305 rows × 4 columns</p>\n",
       "</div>"
      ],
      "text/plain": [
       "     Возраст  Креат. 1  рСКФ  Пол_1\n",
       "0         84     80.30    58      0\n",
       "1         46     92.22    85      1\n",
       "2         65     67.10    83      0\n",
       "3         79    126.50    46      1\n",
       "4         65    109.00    61      1\n",
       "..       ...       ...   ...    ...\n",
       "300       67     78.50    67      0\n",
       "301       67     88.94    58      0\n",
       "302       45     76.10    82      0\n",
       "303       65     91.08    57      0\n",
       "304       55    111.70    64      1\n",
       "\n",
       "[305 rows x 4 columns]"
      ]
     },
     "execution_count": 377,
     "metadata": {},
     "output_type": "execute_result"
    }
   ],
   "source": [
    "X"
   ]
  },
  {
   "cell_type": "code",
   "execution_count": 378,
   "id": "cb1b4a56",
   "metadata": {},
   "outputs": [],
   "source": [
    "X_train, X_test, y_train, y_test = train_test_split(X, y, test_size=0.2, random_state=42)"
   ]
  },
  {
   "cell_type": "code",
   "execution_count": 379,
   "id": "372c990c",
   "metadata": {},
   "outputs": [],
   "source": [
    "from sklearn.model_selection import RandomizedSearchCV"
   ]
  },
  {
   "cell_type": "code",
   "execution_count": 380,
   "id": "7383adf6",
   "metadata": {},
   "outputs": [
    {
     "name": "stdout",
     "output_type": "stream",
     "text": [
      "CPU times: user 399 ms, sys: 4.22 ms, total: 403 ms\n",
      "Wall time: 402 ms\n"
     ]
    },
    {
     "data": {
      "text/plain": [
       "RandomizedSearchCV(cv=10, estimator=KNeighborsClassifier(),\n",
       "                   param_distributions={'n_neighbors': [1, 2, 3, 4, 5, 6, 7, 8,\n",
       "                                                        9, 10, 11, 12, 13, 14,\n",
       "                                                        15, 16, 17, 18, 19, 20,\n",
       "                                                        21, 22, 23, 24, 25, 26,\n",
       "                                                        27, 28, 29],\n",
       "                                        'weights': ['uniform', 'distance']},\n",
       "                   scoring='accuracy')"
      ]
     },
     "execution_count": 380,
     "metadata": {},
     "output_type": "execute_result"
    }
   ],
   "source": [
    "%%time\n",
    "param_grid = {'n_neighbors':list(range(1,30)),\n",
    "              'weights': ['uniform', 'distance']\n",
    "}\n",
    "knn = KNeighborsClassifier()\n",
    "grid = RandomizedSearchCV(knn, param_grid, cv=10, scoring='accuracy')\n",
    "\n",
    "grid.fit(X,y)"
   ]
  },
  {
   "cell_type": "code",
   "execution_count": 381,
   "id": "df7f7d81",
   "metadata": {},
   "outputs": [
    {
     "name": "stdout",
     "output_type": "stream",
     "text": [
      "0.15419354838709678\n",
      "KNeighborsClassifier(n_neighbors=17)\n"
     ]
    }
   ],
   "source": [
    "print(grid.best_score_)\n",
    "print(grid.best_estimator_)"
   ]
  },
  {
   "attachments": {},
   "cell_type": "markdown",
   "id": "6121016f",
   "metadata": {},
   "source": [
    "# Лучший результат предсказаний получился 0.15"
   ]
  },
  {
   "cell_type": "code",
   "execution_count": 382,
   "id": "242a2532",
   "metadata": {},
   "outputs": [
    {
     "name": "stdout",
     "output_type": "stream",
     "text": [
      "fit_time   [0.002 0.002 0.002 0.002 0.001 0.001 0.002 0.001 0.001 0.001] \n",
      "\n",
      "score_time   [0.002 0.002 0.002 0.002 0.002 0.002 0.002 0.002 0.002 0.002] \n",
      "\n",
      "test_accuracy   [nan nan nan nan nan nan nan nan nan nan] \n",
      "\n",
      "test_recall   [nan nan nan nan nan nan nan nan nan nan] \n",
      "\n",
      "test_precision   [nan nan nan nan nan nan nan nan nan nan] \n",
      "\n",
      "test_f1   [nan nan nan nan nan nan nan nan nan nan] \n",
      "\n"
     ]
    }
   ],
   "source": [
    "knn = KNeighborsClassifier(n_neighbors=5)\n",
    "scores = cross_validate(knn, X_test, y_test, cv=10, scoring=['accuracy','recall','precision','f1'])\n",
    "for i in scores.keys():\n",
    "    print(i, ' ',scores[i].round(3),'\\n')"
   ]
  },
  {
   "attachments": {},
   "cell_type": "markdown",
   "id": "21e5956c",
   "metadata": {},
   "source": [
    "# Результатом нескольких экспериментов(а именно 10) стал тот факт, что точность предсказаний класса"
   ]
  },
  {
   "cell_type": "code",
   "execution_count": 388,
   "id": "0af8d1b6",
   "metadata": {},
   "outputs": [],
   "source": [
    "clf = KNeighborsClassifier(n_neighbors=9)\n",
    "model = clf.fit(X_test,y_test)"
   ]
  },
  {
   "cell_type": "code",
   "execution_count": 389,
   "id": "14429ee4",
   "metadata": {},
   "outputs": [
    {
     "data": {
      "text/plain": [
       "0.39344262295081966"
      ]
     },
     "execution_count": 389,
     "metadata": {},
     "output_type": "execute_result"
    }
   ],
   "source": [
    "model.score(X_test,y_test)"
   ]
  },
  {
   "cell_type": "code",
   "execution_count": 390,
   "id": "253171e3",
   "metadata": {},
   "outputs": [],
   "source": [
    "svr_model = make_pipeline(StandardScaler(), SVC())"
   ]
  },
  {
   "cell_type": "code",
   "execution_count": 386,
   "id": "37616f4f",
   "metadata": {},
   "outputs": [
    {
     "data": {
      "text/plain": [
       "Pipeline(steps=[('standardscaler', StandardScaler()), ('svc', SVC())])"
      ]
     },
     "execution_count": 386,
     "metadata": {},
     "output_type": "execute_result"
    }
   ],
   "source": [
    "svr_model.fit(X_test,y_test)"
   ]
  },
  {
   "cell_type": "code",
   "execution_count": 387,
   "id": "3533f7c1",
   "metadata": {},
   "outputs": [
    {
     "data": {
      "text/plain": [
       "0.36065573770491804"
      ]
     },
     "execution_count": 387,
     "metadata": {},
     "output_type": "execute_result"
    }
   ],
   "source": [
    "svr_model.score(X_test,y_test)"
   ]
  },
  {
   "cell_type": "code",
   "execution_count": 399,
   "id": "d5caef8b",
   "metadata": {},
   "outputs": [],
   "source": [
    "from sklearn.preprocessing import Normalizer\n",
    "# X.describe()\n",
    "transformer = Normalizer().fit(X)\n",
    "X2 = transformer.transform(X)\n",
    "X_train, X_test, y_train, y_test = train_test_split(X2, y, test_size=0.2, random_state=42)"
   ]
  },
  {
   "cell_type": "code",
   "execution_count": 400,
   "id": "1741dca8",
   "metadata": {},
   "outputs": [
    {
     "name": "stdout",
     "output_type": "stream",
     "text": [
      "CPU times: user 243 ms, sys: 7.72 ms, total: 251 ms\n",
      "Wall time: 257 ms\n"
     ]
    },
    {
     "data": {
      "text/plain": [
       "RandomizedSearchCV(cv=10, estimator=KNeighborsClassifier(),\n",
       "                   param_distributions={'n_neighbors': [1, 2, 3, 4, 5, 6, 7, 8,\n",
       "                                                        9, 10, 11, 12, 13, 14,\n",
       "                                                        15, 16, 17, 18, 19, 20,\n",
       "                                                        21, 22, 23, 24, 25, 26,\n",
       "                                                        27, 28, 29],\n",
       "                                        'weights': ['uniform', 'distance']},\n",
       "                   scoring='accuracy')"
      ]
     },
     "execution_count": 400,
     "metadata": {},
     "output_type": "execute_result"
    }
   ],
   "source": [
    "%%time\n",
    "param_grid = {'n_neighbors':list(range(1,30)),\n",
    "              'weights': ['uniform', 'distance']\n",
    "}\n",
    "knn = KNeighborsClassifier()\n",
    "grid = RandomizedSearchCV(knn, param_grid, cv=10, scoring='accuracy')\n",
    "\n",
    "grid.fit(X2,y)"
   ]
  },
  {
   "cell_type": "code",
   "execution_count": 401,
   "id": "11596e9b",
   "metadata": {},
   "outputs": [
    {
     "name": "stdout",
     "output_type": "stream",
     "text": [
      "0.18365591397849462\n",
      "KNeighborsClassifier(n_neighbors=23)\n"
     ]
    }
   ],
   "source": [
    "print(grid.best_score_)\n",
    "print(grid.best_estimator_)"
   ]
  },
  {
   "attachments": {},
   "cell_type": "markdown",
   "id": "d995b6e0",
   "metadata": {},
   "source": [
    "# ну вот, если предсказывать значения по нормализованным данным, то есть по данным, где среднее значение равно ноль и стандартное отклонение равно 1, то лучший резульата получается 0.18"
   ]
  },
  {
   "cell_type": "code",
   "execution_count": null,
   "id": "121947e1",
   "metadata": {},
   "outputs": [],
   "source": []
  }
 ],
 "metadata": {
  "kernelspec": {
   "display_name": "Python 3 (ipykernel)",
   "language": "python",
   "name": "python3"
  },
  "language_info": {
   "codemirror_mode": {
    "name": "ipython",
    "version": 3
   },
   "file_extension": ".py",
   "mimetype": "text/x-python",
   "name": "python",
   "nbconvert_exporter": "python",
   "pygments_lexer": "ipython3",
   "version": "3.8.8"
  }
 },
 "nbformat": 4,
 "nbformat_minor": 5
}
